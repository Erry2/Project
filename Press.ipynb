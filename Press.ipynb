{
 "cells": [
  {
   "cell_type": "code",
   "execution_count": 1,
   "id": "b4dcb8c9",
   "metadata": {},
   "outputs": [],
   "source": [
    "import pandas as pd"
   ]
  },
  {
   "cell_type": "code",
   "execution_count": 8,
   "id": "1c042751",
   "metadata": {},
   "outputs": [],
   "source": [
    "df = pd.read_excel(\"loi_press.xlsx\" , header = None)"
   ]
  },
  {
   "cell_type": "code",
   "execution_count": 9,
   "id": "5efc87e7",
   "metadata": {},
   "outputs": [
    {
     "data": {
      "text/html": [
       "<div>\n",
       "<style scoped>\n",
       "    .dataframe tbody tr th:only-of-type {\n",
       "        vertical-align: middle;\n",
       "    }\n",
       "\n",
       "    .dataframe tbody tr th {\n",
       "        vertical-align: top;\n",
       "    }\n",
       "\n",
       "    .dataframe thead th {\n",
       "        text-align: right;\n",
       "    }\n",
       "</style>\n",
       "<table border=\"1\" class=\"dataframe\">\n",
       "  <thead>\n",
       "    <tr style=\"text-align: right;\">\n",
       "      <th></th>\n",
       "      <th>0</th>\n",
       "      <th>1</th>\n",
       "    </tr>\n",
       "  </thead>\n",
       "  <tbody>\n",
       "    <tr>\n",
       "      <th>0</th>\n",
       "      <td>Article 2</td>\n",
       "      <td>Article 2</td>\n",
       "    </tr>\n",
       "    <tr>\n",
       "      <th>1</th>\n",
       "      <td>Au sens de la présente loi, on entend par :</td>\n",
       "      <td>Article 2</td>\n",
       "    </tr>\n",
       "    <tr>\n",
       "      <th>2</th>\n",
       "      <td>I. Le journalisme : profession qui consiste à ...</td>\n",
       "      <td>Article 2</td>\n",
       "    </tr>\n",
       "    <tr>\n",
       "      <th>3</th>\n",
       "      <td>les nouvelles, les informations ou les faits, ...</td>\n",
       "      <td>Article 2</td>\n",
       "    </tr>\n",
       "    <tr>\n",
       "      <th>4</th>\n",
       "      <td>d'enquêter sur ces derniers, d'une manière pro...</td>\n",
       "      <td>Article 2</td>\n",
       "    </tr>\n",
       "  </tbody>\n",
       "</table>\n",
       "</div>"
      ],
      "text/plain": [
       "                                                   0          1\n",
       "0                                          Article 2  Article 2\n",
       "1        Au sens de la présente loi, on entend par :  Article 2\n",
       "2  I. Le journalisme : profession qui consiste à ...  Article 2\n",
       "3  les nouvelles, les informations ou les faits, ...  Article 2\n",
       "4  d'enquêter sur ces derniers, d'une manière pro...  Article 2"
      ]
     },
     "execution_count": 9,
     "metadata": {},
     "output_type": "execute_result"
    }
   ],
   "source": [
    "df.head()"
   ]
  },
  {
   "cell_type": "code",
   "execution_count": 14,
   "id": "65e7a44e",
   "metadata": {},
   "outputs": [],
   "source": [
    "df = df.groupby(1 , as_index=False).agg({1 : 'first', 0 : ' '.join})"
   ]
  },
  {
   "cell_type": "code",
   "execution_count": 19,
   "id": "5ff810e7",
   "metadata": {},
   "outputs": [
    {
     "data": {
      "text/html": [
       "<div>\n",
       "<style scoped>\n",
       "    .dataframe tbody tr th:only-of-type {\n",
       "        vertical-align: middle;\n",
       "    }\n",
       "\n",
       "    .dataframe tbody tr th {\n",
       "        vertical-align: top;\n",
       "    }\n",
       "\n",
       "    .dataframe thead th {\n",
       "        text-align: right;\n",
       "    }\n",
       "</style>\n",
       "<table border=\"1\" class=\"dataframe\">\n",
       "  <thead>\n",
       "    <tr style=\"text-align: right;\">\n",
       "      <th></th>\n",
       "      <th>1</th>\n",
       "      <th>0</th>\n",
       "    </tr>\n",
       "  </thead>\n",
       "  <tbody>\n",
       "    <tr>\n",
       "      <th>0</th>\n",
       "      <td>Article 10</td>\n",
       "      <td>Article 10 Si l'établissement éditeur est une ...</td>\n",
       "    </tr>\n",
       "    <tr>\n",
       "      <th>1</th>\n",
       "      <td>Article 11</td>\n",
       "      <td>Article 11 Toute personne physique ou morale d...</td>\n",
       "    </tr>\n",
       "    <tr>\n",
       "      <th>2</th>\n",
       "      <td>Article 12</td>\n",
       "      <td>Article 12 Sous peine d'une amende dont le max...</td>\n",
       "    </tr>\n",
       "    <tr>\n",
       "      <th>3</th>\n",
       "      <td>Article 2</td>\n",
       "      <td>Article 2 Au sens de la présente loi, on enten...</td>\n",
       "    </tr>\n",
       "    <tr>\n",
       "      <th>4</th>\n",
       "      <td>Article 3</td>\n",
       "      <td>Article 3 La liberté de la presse est garantie...</td>\n",
       "    </tr>\n",
       "  </tbody>\n",
       "</table>\n",
       "</div>"
      ],
      "text/plain": [
       "            1                                                  0\n",
       "0  Article 10  Article 10 Si l'établissement éditeur est une ...\n",
       "1  Article 11  Article 11 Toute personne physique ou morale d...\n",
       "2  Article 12  Article 12 Sous peine d'une amende dont le max...\n",
       "3   Article 2  Article 2 Au sens de la présente loi, on enten...\n",
       "4   Article 3  Article 3 La liberté de la presse est garantie..."
      ]
     },
     "execution_count": 19,
     "metadata": {},
     "output_type": "execute_result"
    }
   ],
   "source": [
    "df.head()"
   ]
  },
  {
   "cell_type": "code",
   "execution_count": 23,
   "id": "5f9abc7b",
   "metadata": {},
   "outputs": [],
   "source": [
    "df.columns = ['Article', 'Loi']"
   ]
  },
  {
   "cell_type": "code",
   "execution_count": 24,
   "id": "7529d8df",
   "metadata": {},
   "outputs": [
    {
     "data": {
      "text/html": [
       "<div>\n",
       "<style scoped>\n",
       "    .dataframe tbody tr th:only-of-type {\n",
       "        vertical-align: middle;\n",
       "    }\n",
       "\n",
       "    .dataframe tbody tr th {\n",
       "        vertical-align: top;\n",
       "    }\n",
       "\n",
       "    .dataframe thead th {\n",
       "        text-align: right;\n",
       "    }\n",
       "</style>\n",
       "<table border=\"1\" class=\"dataframe\">\n",
       "  <thead>\n",
       "    <tr style=\"text-align: right;\">\n",
       "      <th></th>\n",
       "      <th>Article</th>\n",
       "      <th>Loi</th>\n",
       "    </tr>\n",
       "  </thead>\n",
       "  <tbody>\n",
       "    <tr>\n",
       "      <th>0</th>\n",
       "      <td>Article 10</td>\n",
       "      <td>Article 10 Si l'établissement éditeur est une ...</td>\n",
       "    </tr>\n",
       "    <tr>\n",
       "      <th>1</th>\n",
       "      <td>Article 11</td>\n",
       "      <td>Article 11 Toute personne physique ou morale d...</td>\n",
       "    </tr>\n",
       "    <tr>\n",
       "      <th>2</th>\n",
       "      <td>Article 12</td>\n",
       "      <td>Article 12 Sous peine d'une amende dont le max...</td>\n",
       "    </tr>\n",
       "    <tr>\n",
       "      <th>3</th>\n",
       "      <td>Article 2</td>\n",
       "      <td>Article 2 Au sens de la présente loi, on enten...</td>\n",
       "    </tr>\n",
       "    <tr>\n",
       "      <th>4</th>\n",
       "      <td>Article 3</td>\n",
       "      <td>Article 3 La liberté de la presse est garantie...</td>\n",
       "    </tr>\n",
       "  </tbody>\n",
       "</table>\n",
       "</div>"
      ],
      "text/plain": [
       "      Article                                                Loi\n",
       "0  Article 10  Article 10 Si l'établissement éditeur est une ...\n",
       "1  Article 11  Article 11 Toute personne physique ou morale d...\n",
       "2  Article 12  Article 12 Sous peine d'une amende dont le max...\n",
       "3   Article 2  Article 2 Au sens de la présente loi, on enten...\n",
       "4   Article 3  Article 3 La liberté de la presse est garantie..."
      ]
     },
     "execution_count": 24,
     "metadata": {},
     "output_type": "execute_result"
    }
   ],
   "source": [
    "df.head()"
   ]
  },
  {
   "cell_type": "code",
   "execution_count": 25,
   "id": "78162f0b",
   "metadata": {},
   "outputs": [],
   "source": [
    "df = df.drop([\"Article\"], axis = 1)"
   ]
  },
  {
   "cell_type": "code",
   "execution_count": 26,
   "id": "902b030c",
   "metadata": {},
   "outputs": [
    {
     "data": {
      "text/html": [
       "<div>\n",
       "<style scoped>\n",
       "    .dataframe tbody tr th:only-of-type {\n",
       "        vertical-align: middle;\n",
       "    }\n",
       "\n",
       "    .dataframe tbody tr th {\n",
       "        vertical-align: top;\n",
       "    }\n",
       "\n",
       "    .dataframe thead th {\n",
       "        text-align: right;\n",
       "    }\n",
       "</style>\n",
       "<table border=\"1\" class=\"dataframe\">\n",
       "  <thead>\n",
       "    <tr style=\"text-align: right;\">\n",
       "      <th></th>\n",
       "      <th>Loi</th>\n",
       "    </tr>\n",
       "  </thead>\n",
       "  <tbody>\n",
       "    <tr>\n",
       "      <th>0</th>\n",
       "      <td>Article 10 Si l'établissement éditeur est une ...</td>\n",
       "    </tr>\n",
       "    <tr>\n",
       "      <th>1</th>\n",
       "      <td>Article 11 Toute personne physique ou morale d...</td>\n",
       "    </tr>\n",
       "    <tr>\n",
       "      <th>2</th>\n",
       "      <td>Article 12 Sous peine d'une amende dont le max...</td>\n",
       "    </tr>\n",
       "    <tr>\n",
       "      <th>3</th>\n",
       "      <td>Article 2 Au sens de la présente loi, on enten...</td>\n",
       "    </tr>\n",
       "    <tr>\n",
       "      <th>4</th>\n",
       "      <td>Article 3 La liberté de la presse est garantie...</td>\n",
       "    </tr>\n",
       "  </tbody>\n",
       "</table>\n",
       "</div>"
      ],
      "text/plain": [
       "                                                 Loi\n",
       "0  Article 10 Si l'établissement éditeur est une ...\n",
       "1  Article 11 Toute personne physique ou morale d...\n",
       "2  Article 12 Sous peine d'une amende dont le max...\n",
       "3  Article 2 Au sens de la présente loi, on enten...\n",
       "4  Article 3 La liberté de la presse est garantie..."
      ]
     },
     "execution_count": 26,
     "metadata": {},
     "output_type": "execute_result"
    }
   ],
   "source": [
    "df.head()"
   ]
  },
  {
   "cell_type": "code",
   "execution_count": 28,
   "id": "7958f2a9",
   "metadata": {},
   "outputs": [
    {
     "data": {
      "text/html": [
       "<div>\n",
       "<style scoped>\n",
       "    .dataframe tbody tr th:only-of-type {\n",
       "        vertical-align: middle;\n",
       "    }\n",
       "\n",
       "    .dataframe tbody tr th {\n",
       "        vertical-align: top;\n",
       "    }\n",
       "\n",
       "    .dataframe thead th {\n",
       "        text-align: right;\n",
       "    }\n",
       "</style>\n",
       "<table border=\"1\" class=\"dataframe\">\n",
       "  <thead>\n",
       "    <tr style=\"text-align: right;\">\n",
       "      <th></th>\n",
       "      <th>a</th>\n",
       "    </tr>\n",
       "  </thead>\n",
       "  <tbody>\n",
       "    <tr>\n",
       "      <th>0</th>\n",
       "      <td>ai</td>\n",
       "    </tr>\n",
       "    <tr>\n",
       "      <th>1</th>\n",
       "      <td>aie</td>\n",
       "    </tr>\n",
       "    <tr>\n",
       "      <th>2</th>\n",
       "      <td>aient</td>\n",
       "    </tr>\n",
       "    <tr>\n",
       "      <th>3</th>\n",
       "      <td>aies</td>\n",
       "    </tr>\n",
       "    <tr>\n",
       "      <th>4</th>\n",
       "      <td>ait</td>\n",
       "    </tr>\n",
       "    <tr>\n",
       "      <th>...</th>\n",
       "      <td>...</td>\n",
       "    </tr>\n",
       "    <tr>\n",
       "      <th>241</th>\n",
       "      <td>étions</td>\n",
       "    </tr>\n",
       "    <tr>\n",
       "      <th>242</th>\n",
       "      <td>été</td>\n",
       "    </tr>\n",
       "    <tr>\n",
       "      <th>243</th>\n",
       "      <td>étés</td>\n",
       "    </tr>\n",
       "    <tr>\n",
       "      <th>244</th>\n",
       "      <td>êtes</td>\n",
       "    </tr>\n",
       "    <tr>\n",
       "      <th>245</th>\n",
       "      <td>être</td>\n",
       "    </tr>\n",
       "  </tbody>\n",
       "</table>\n",
       "<p>246 rows × 1 columns</p>\n",
       "</div>"
      ],
      "text/plain": [
       "          a\n",
       "0        ai\n",
       "1       aie\n",
       "2     aient\n",
       "3      aies\n",
       "4       ait\n",
       "..      ...\n",
       "241  étions\n",
       "242     été\n",
       "243    étés\n",
       "244    êtes\n",
       "245    être\n",
       "\n",
       "[246 rows x 1 columns]"
      ]
     },
     "execution_count": 28,
     "metadata": {},
     "output_type": "execute_result"
    }
   ],
   "source": [
    "df1 = pd.read_csv('french.txt')\n",
    "df1"
   ]
  },
  {
   "cell_type": "code",
   "execution_count": 29,
   "id": "1b5e0f4a",
   "metadata": {},
   "outputs": [],
   "source": [
    "def get_stopwords_list(stop_file_path):\n",
    "    \"\"\"load stop words \"\"\"\n",
    "    \n",
    "    with open(stop_file_path, 'r', encoding=\"utf-8\") as f:\n",
    "        stopwords = f.readlines()\n",
    "        stop_set = set(m.strip() for m in stopwords)\n",
    "        return list(frozenset(stop_set))"
   ]
  },
  {
   "cell_type": "code",
   "execution_count": 30,
   "id": "3db0d18b",
   "metadata": {},
   "outputs": [],
   "source": [
    "stopwords_path = \"french.txt\"\n",
    "stopwords = get_stopwords_list(stopwords_path)"
   ]
  },
  {
   "cell_type": "code",
   "execution_count": 31,
   "id": "ed64b885",
   "metadata": {},
   "outputs": [
    {
     "data": {
      "text/plain": [
       "['soi', 'vois', 'aurez', 'faire', 'même', 'seras', 'ton', 'alors', 'quel']"
      ]
     },
     "execution_count": 31,
     "metadata": {},
     "output_type": "execute_result"
    }
   ],
   "source": [
    "stopwords[0:9]"
   ]
  },
  {
   "cell_type": "code",
   "execution_count": 32,
   "id": "c5a88632",
   "metadata": {},
   "outputs": [
    {
     "name": "stdout",
     "output_type": "stream",
     "text": [
      "247\n"
     ]
    }
   ],
   "source": [
    "print(len(stopwords))"
   ]
  },
  {
   "cell_type": "code",
   "execution_count": 33,
   "id": "123219c6",
   "metadata": {},
   "outputs": [],
   "source": [
    "# function to remove french stopwords\n",
    "def remove_stop_words(corpus):\n",
    "    results = []\n",
    "    for text in corpus:\n",
    "        tmp = text.split(' ')\n",
    "        for stop_word in stop_words:\n",
    "            if stop_word in tmp:\n",
    "                tmp.remove(stop_word)\n",
    "        results.append(\" \".join(tmp))\n",
    "        \n",
    "    return results"
   ]
  },
  {
   "cell_type": "code",
   "execution_count": null,
   "id": "d1c93c01",
   "metadata": {},
   "outputs": [],
   "source": []
  }
 ],
 "metadata": {
  "kernelspec": {
   "display_name": "Python 3 (ipykernel)",
   "language": "python",
   "name": "python3"
  },
  "language_info": {
   "codemirror_mode": {
    "name": "ipython",
    "version": 3
   },
   "file_extension": ".py",
   "mimetype": "text/x-python",
   "name": "python",
   "nbconvert_exporter": "python",
   "pygments_lexer": "ipython3",
   "version": "3.9.7"
  }
 },
 "nbformat": 4,
 "nbformat_minor": 5
}
