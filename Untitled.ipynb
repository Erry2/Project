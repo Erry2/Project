{
 "cells": [
  {
   "cell_type": "code",
   "execution_count": 1,
   "id": "3b40073e",
   "metadata": {},
   "outputs": [],
   "source": [
    "import pandas as pd"
   ]
  },
  {
   "cell_type": "code",
   "execution_count": 3,
   "id": "26ecd39b",
   "metadata": {},
   "outputs": [
    {
     "name": "stderr",
     "output_type": "stream",
     "text": [
      "C:\\Users\\lenovo\\anaconda3\\lib\\site-packages\\openpyxl\\styles\\stylesheet.py:226: UserWarning: Workbook contains no default style, apply openpyxl's default\n",
      "  warn(\"Workbook contains no default style, apply openpyxl's default\")\n"
     ]
    }
   ],
   "source": [
    "df = pd.read_excel(\"Loi_88.13_Fr.xlsx\")"
   ]
  },
  {
   "cell_type": "code",
   "execution_count": 4,
   "id": "f77018dd",
   "metadata": {},
   "outputs": [
    {
     "data": {
      "text/html": [
       "<div>\n",
       "<style scoped>\n",
       "    .dataframe tbody tr th:only-of-type {\n",
       "        vertical-align: middle;\n",
       "    }\n",
       "\n",
       "    .dataframe tbody tr th {\n",
       "        vertical-align: top;\n",
       "    }\n",
       "\n",
       "    .dataframe thead th {\n",
       "        text-align: right;\n",
       "    }\n",
       "</style>\n",
       "<table border=\"1\" class=\"dataframe\">\n",
       "  <thead>\n",
       "    <tr style=\"text-align: right;\">\n",
       "      <th></th>\n",
       "      <th>N° 6522 - rabii 1 1438 (1'12-2016)</th>\n",
       "    </tr>\n",
       "  </thead>\n",
       "  <tbody>\n",
       "    <tr>\n",
       "      <th>0</th>\n",
       "      <td>BULLETIN OFFICIEL 1861</td>\n",
       "    </tr>\n",
       "    <tr>\n",
       "      <th>1</th>\n",
       "      <td>Dahir n° 1-16-122 du 6 kaada 1437 (10 août 201...</td>\n",
       "    </tr>\n",
       "    <tr>\n",
       "      <th>2</th>\n",
       "      <td>promulgation de la loi n° 88-13 relative à la ...</td>\n",
       "    </tr>\n",
       "    <tr>\n",
       "      <th>3</th>\n",
       "      <td>l'édition.</td>\n",
       "    </tr>\n",
       "    <tr>\n",
       "      <th>4</th>\n",
       "      <td>LOUANGE A DIEU SEUL !</td>\n",
       "    </tr>\n",
       "  </tbody>\n",
       "</table>\n",
       "</div>"
      ],
      "text/plain": [
       "                  N° 6522 - rabii 1 1438 (1'12-2016)\n",
       "0                             BULLETIN OFFICIEL 1861\n",
       "1  Dahir n° 1-16-122 du 6 kaada 1437 (10 août 201...\n",
       "2  promulgation de la loi n° 88-13 relative à la ...\n",
       "3                                         l'édition.\n",
       "4                              LOUANGE A DIEU SEUL !"
      ]
     },
     "execution_count": 4,
     "metadata": {},
     "output_type": "execute_result"
    }
   ],
   "source": [
    "df.head()"
   ]
  },
  {
   "cell_type": "code",
   "execution_count": 53,
   "id": "1be1bf48",
   "metadata": {
    "scrolled": true
   },
   "outputs": [
    {
     "data": {
      "text/html": [
       "<div>\n",
       "<style scoped>\n",
       "    .dataframe tbody tr th:only-of-type {\n",
       "        vertical-align: middle;\n",
       "    }\n",
       "\n",
       "    .dataframe tbody tr th {\n",
       "        vertical-align: top;\n",
       "    }\n",
       "\n",
       "    .dataframe thead th {\n",
       "        text-align: right;\n",
       "    }\n",
       "</style>\n",
       "<table border=\"1\" class=\"dataframe\">\n",
       "  <thead>\n",
       "    <tr style=\"text-align: right;\">\n",
       "      <th></th>\n",
       "      <th>N° 6522 - rabii 1 1438 (1'12-2016)</th>\n",
       "    </tr>\n",
       "  </thead>\n",
       "  <tbody>\n",
       "    <tr>\n",
       "      <th>1</th>\n",
       "      <td>Dahir n° 1-16-122 du 6 kaada 1437 (10 août 201...</td>\n",
       "    </tr>\n",
       "    <tr>\n",
       "      <th>2</th>\n",
       "      <td>promulgation de la loi n° 88-13 relative à la ...</td>\n",
       "    </tr>\n",
       "    <tr>\n",
       "      <th>3</th>\n",
       "      <td>l'édition.</td>\n",
       "    </tr>\n",
       "    <tr>\n",
       "      <th>4</th>\n",
       "      <td>LOUANGE A DIEU SEUL !</td>\n",
       "    </tr>\n",
       "    <tr>\n",
       "      <th>5</th>\n",
       "      <td>(Grand Sceau de Sa Majesté Mohammed VI)</td>\n",
       "    </tr>\n",
       "    <tr>\n",
       "      <th>...</th>\n",
       "      <td>...</td>\n",
       "    </tr>\n",
       "    <tr>\n",
       "      <th>1036</th>\n",
       "      <td>jugée qui pourront toujours être publiés.</td>\n",
       "    </tr>\n",
       "    <tr>\n",
       "      <th>1037</th>\n",
       "      <td>Est également interdite la publication, des dé...</td>\n",
       "    </tr>\n",
       "    <tr>\n",
       "      <th>1038</th>\n",
       "      <td>procès d'enfants ou les procès où sont impliqu...</td>\n",
       "    </tr>\n",
       "    <tr>\n",
       "      <th>1039</th>\n",
       "      <td>ainsi que les procès de toute nature des perso...</td>\n",
       "    </tr>\n",
       "    <tr>\n",
       "      <th>1040</th>\n",
       "      <td>lorsque l'identification des enfants est possi...</td>\n",
       "    </tr>\n",
       "  </tbody>\n",
       "</table>\n",
       "<p>1040 rows × 1 columns</p>\n",
       "</div>"
      ],
      "text/plain": [
       "                     N° 6522 - rabii 1 1438 (1'12-2016)\n",
       "1     Dahir n° 1-16-122 du 6 kaada 1437 (10 août 201...\n",
       "2     promulgation de la loi n° 88-13 relative à la ...\n",
       "3                                            l'édition.\n",
       "4                                 LOUANGE A DIEU SEUL !\n",
       "5               (Grand Sceau de Sa Majesté Mohammed VI)\n",
       "...                                                 ...\n",
       "1036          jugée qui pourront toujours être publiés.\n",
       "1037  Est également interdite la publication, des dé...\n",
       "1038  procès d'enfants ou les procès où sont impliqu...\n",
       "1039  ainsi que les procès de toute nature des perso...\n",
       "1040  lorsque l'identification des enfants est possi...\n",
       "\n",
       "[1040 rows x 1 columns]"
      ]
     },
     "execution_count": 53,
     "metadata": {},
     "output_type": "execute_result"
    }
   ],
   "source": [
    "df.iloc[1:]"
   ]
  },
  {
   "cell_type": "code",
   "execution_count": null,
   "id": "c8f5fb70",
   "metadata": {},
   "outputs": [],
   "source": []
  },
  {
   "cell_type": "code",
   "execution_count": 10,
   "id": "4717de0e",
   "metadata": {},
   "outputs": [],
   "source": [
    "def createList(r1, r2):\n",
    "    return [item for item in range(r1, r2+1)]"
   ]
  },
  {
   "cell_type": "code",
   "execution_count": 19,
   "id": "b9811909",
   "metadata": {},
   "outputs": [],
   "source": [
    "number = createList(1, 100)"
   ]
  },
  {
   "cell_type": "code",
   "execution_count": null,
   "id": "5c1619f9",
   "metadata": {},
   "outputs": [],
   "source": []
  },
  {
   "cell_type": "code",
   "execution_count": 38,
   "id": "5f98cc6e",
   "metadata": {},
   "outputs": [
    {
     "data": {
      "text/plain": [
       "N° 6522 - rabii 1 1438 (1'12-2016)    Dahir n° 1-16-122 du 6 kaada 1437 (10 août 201...\n",
       "Name: 1, dtype: object"
      ]
     },
     "execution_count": 38,
     "metadata": {},
     "output_type": "execute_result"
    }
   ],
   "source": [
    "df.loc[1]"
   ]
  },
  {
   "cell_type": "code",
   "execution_count": 37,
   "id": "2b54a1c1",
   "metadata": {},
   "outputs": [],
   "source": [
    "# df.insert()"
   ]
  },
  {
   "cell_type": "code",
   "execution_count": 64,
   "id": "a906ccf9",
   "metadata": {},
   "outputs": [],
   "source": [
    "for i in range(1,1039):\n",
    "    for j in range(100):\n",
    "        if df.iat[i, 0] == \"Artcile\" + str(j):\n",
    "            df.insert(1, \"newcol\", df.iat[i+1, 0])"
   ]
  },
  {
   "cell_type": "code",
   "execution_count": 61,
   "id": "7bed9c16",
   "metadata": {},
   "outputs": [
    {
     "data": {
      "text/html": [
       "<div>\n",
       "<style scoped>\n",
       "    .dataframe tbody tr th:only-of-type {\n",
       "        vertical-align: middle;\n",
       "    }\n",
       "\n",
       "    .dataframe tbody tr th {\n",
       "        vertical-align: top;\n",
       "    }\n",
       "\n",
       "    .dataframe thead th {\n",
       "        text-align: right;\n",
       "    }\n",
       "</style>\n",
       "<table border=\"1\" class=\"dataframe\">\n",
       "  <thead>\n",
       "    <tr style=\"text-align: right;\">\n",
       "      <th></th>\n",
       "      <th>N° 6522 - rabii 1 1438 (1'12-2016)</th>\n",
       "    </tr>\n",
       "  </thead>\n",
       "  <tbody>\n",
       "    <tr>\n",
       "      <th>0</th>\n",
       "      <td>BULLETIN OFFICIEL 1861</td>\n",
       "    </tr>\n",
       "    <tr>\n",
       "      <th>1</th>\n",
       "      <td>Dahir n° 1-16-122 du 6 kaada 1437 (10 août 201...</td>\n",
       "    </tr>\n",
       "    <tr>\n",
       "      <th>2</th>\n",
       "      <td>promulgation de la loi n° 88-13 relative à la ...</td>\n",
       "    </tr>\n",
       "    <tr>\n",
       "      <th>3</th>\n",
       "      <td>l'édition.</td>\n",
       "    </tr>\n",
       "    <tr>\n",
       "      <th>4</th>\n",
       "      <td>LOUANGE A DIEU SEUL !</td>\n",
       "    </tr>\n",
       "  </tbody>\n",
       "</table>\n",
       "</div>"
      ],
      "text/plain": [
       "                  N° 6522 - rabii 1 1438 (1'12-2016)\n",
       "0                             BULLETIN OFFICIEL 1861\n",
       "1  Dahir n° 1-16-122 du 6 kaada 1437 (10 août 201...\n",
       "2  promulgation de la loi n° 88-13 relative à la ...\n",
       "3                                         l'édition.\n",
       "4                              LOUANGE A DIEU SEUL !"
      ]
     },
     "execution_count": 61,
     "metadata": {},
     "output_type": "execute_result"
    }
   ],
   "source": [
    "df.head()"
   ]
  },
  {
   "cell_type": "code",
   "execution_count": null,
   "id": "db09491e",
   "metadata": {},
   "outputs": [],
   "source": []
  }
 ],
 "metadata": {
  "kernelspec": {
   "display_name": "Python 3 (ipykernel)",
   "language": "python",
   "name": "python3"
  },
  "language_info": {
   "codemirror_mode": {
    "name": "ipython",
    "version": 3
   },
   "file_extension": ".py",
   "mimetype": "text/x-python",
   "name": "python",
   "nbconvert_exporter": "python",
   "pygments_lexer": "ipython3",
   "version": "3.9.7"
  }
 },
 "nbformat": 4,
 "nbformat_minor": 5
}
